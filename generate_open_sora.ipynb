{
 "cells": [
  {
   "cell_type": "markdown",
   "metadata": {},
   "source": [
    "# 🎬 Open-Sora Video Generation Notebook\n",
    "Generate short cinematic clips from JSON scenes stored in your GitHub repo.\n",
    "---"
   ]
  },
  {
   "cell_type": "code",
   "execution_count": null,
   "metadata": {},
   "outputs": [],
   "source": [
    "# 1️⃣ Clone this GitHub repository (replace with your own)\n",
    "!git clone https://github.com/YOUR_USERNAME/my-movie-project.git\n",
    "%cd my-movie-project\n"
   ]
  },
  {
   "cell_type": "code",
   "execution_count": null,
   "metadata": {},
   "outputs": [],
   "source": [
    "# 2️⃣ Install dependencies\n",
    "!pip install -r requirements.txt\n",
    "\n",
    "# Optional: mount Google Drive for output storage\n",
    "from google.colab import drive\n",
    "drive.mount('/content/drive')\n",
    "!mkdir -p /content/drive/MyDrive/WhispersBeyondField_outputs"
   ]
  },
  {
   "cell_type": "code",
   "execution_count": null,
   "metadata": {},
   "outputs": [],
   "source": [
    "# 3️⃣ (Optional) Authenticate with Hugging Face for model weights\n",
    "import os\n",
    "HF_TOKEN = input('Enter your HuggingFace token: ')\n",
    "os.environ['HF_TOKEN'] = HF_TOKEN"
   ]
  },
  {
   "cell_type": "code",
   "execution_count": null,
   "metadata": {},
   "outputs": [],
   "source": [
    "# 4️⃣ Install / load Open-Sora or compatible model\n",
    "!git clone https://github.com/hpcaitech/Open-Sora.git\n",
    "%cd Open-Sora\n",
    "!pip install -r requirements.txt"
   ]
  },
  {
   "cell_type": "code",
   "execution_count": null,
   "metadata": {},
   "outputs": [],
   "source": [
    "# 5️⃣ Load scene JSON\n",
    "import json\n",
    "with open('/content/my-movie-project/scene1.json','r') as f:\n",
    "    scene = json.load(f)\n",
    "prompt = scene['visual_prompt']\n",
    "print('Prompt loaded:', prompt)"
   ]
  },
  {
   "cell_type": "code",
   "execution_count": null,
   "metadata": {},
   "outputs": [],
   "source": [
    "# 6️⃣ Generate the video (simplified example)\n",
    "# Replace with actual Open-Sora command or API once installed\n",
    "import moviepy.editor as mpy\n",
    "import numpy as np\n",
    "\n",
    "# Placeholder example: create a blank animated frame to simulate output\n",
    "clip = mpy.ColorClip(size=(640,360), color=(30,30,30), duration=scene['duration_sec'])\n",
    "txt = mpy.TextClip(scene['title'], fontsize=50, color='white').set_position('center').set_duration(3)\n",
    "final = mpy.CompositeVideoClip([clip, txt])\n",
    "out_path = f\"/content/drive/MyDrive/WhispersBeyondField_outputs/{scene['scene_id']}_test.mp4\"\n",
    "final.write_videofile(out_path, fps=24)\n",
    "print('Video saved to:', out_path)"
   ]
  }
 ],
 "metadata": {
  "colab": {
   "provenance": []
  },
  "kernelspec": {
   "display_name": "Python 3",
   "language": "python",
   "name": "python3"
  }
 },
 "nbformat": 4,
 "nbformat_minor": 0
}
